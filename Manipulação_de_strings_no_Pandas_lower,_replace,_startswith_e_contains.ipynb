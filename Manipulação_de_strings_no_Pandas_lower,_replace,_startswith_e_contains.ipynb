{
  "nbformat": 4,
  "nbformat_minor": 0,
  "metadata": {
    "colab": {
      "name": "Manipulação de strings no Pandas: lower, replace, startswith e contains.ipynb",
      "version": "0.3.2",
      "provenance": [],
      "collapsed_sections": []
    },
    "kernelspec": {
      "name": "python3",
      "display_name": "Python 3"
    }
  },
  "cells": [
    {
      "metadata": {
        "id": "8rCHBFtBaIND",
        "colab_type": "text"
      },
      "cell_type": "markdown",
      "source": [
        "# Gerando dados aleatórios de maneira simples com numpy"
      ]
    },
    {
      "metadata": {
        "id": "p8oJp39KTxo2",
        "colab_type": "code",
        "colab": {}
      },
      "cell_type": "code",
      "source": [
        "import numpy as np\n",
        "import pandas as pd\n",
        "\n",
        "np.random.seed(423)"
      ],
      "execution_count": 0,
      "outputs": []
    },
    {
      "metadata": {
        "id": "hQtZLPPQWEKj",
        "colab_type": "code",
        "colab": {}
      },
      "cell_type": "code",
      "source": [
        "a_buscar = ['classica', 'rock', 'jazz', 'funk', 'pop', 'kpop', 'techno', 'drumnbass']\n",
        "acessos = np.random.choice(a_buscar, 30000)\n",
        "todos_acessos = pd.DataFrame(acessos, columns=[\"URI\"])\n",
        "todos_acessos.URI = '/playlist/' + todos_acessos.URI"
      ],
      "execution_count": 0,
      "outputs": []
    },
    {
      "metadata": {
        "id": "eTqMhXucTzuu",
        "colab_type": "code",
        "colab": {}
      },
      "cell_type": "code",
      "source": [
        "paginas = ['/promocao_primeiro_de_abril/compra/plano_basico', '/compra/plano_basico', '/compra/plano_avancado', '/', '/musicas', '/contato']\n",
        "prob = np.array([1,1,1,10,4,2])\n",
        "acessos = np.random.choice(paginas, 150000, p = prob/sum(prob))\n",
        "acessos = pd.DataFrame(acessos, columns=[\"URI\"])\n",
        "todos_acessos = pd.concat([acessos, todos_acessos])"
      ],
      "execution_count": 0,
      "outputs": []
    },
    {
      "metadata": {
        "id": "On3PKgqAW3dQ",
        "colab_type": "code",
        "colab": {}
      },
      "cell_type": "code",
      "source": [
        "def zera_ninguem(id):\n",
        "  if id<=100:\n",
        "    return None\n",
        "  return id-100\n",
        "\n",
        "todos_acessos['Usuario logado'] = (np.random.rand(len(todos_acessos)) * (len(todos_acessos) / 10)).round().astype(int)\n",
        "todos_acessos['Usuario logado'] = todos_acessos['Usuario logado'].apply(zera_ninguem)"
      ],
      "execution_count": 0,
      "outputs": []
    },
    {
      "metadata": {
        "id": "i43KY098ZGke",
        "colab_type": "code",
        "colab": {}
      },
      "cell_type": "code",
      "source": [
        "status = [200, 500]\n",
        "todos_acessos['Status de resposta'] = np.random.choice(status, p = [0.97, 0.03])"
      ],
      "execution_count": 0,
      "outputs": []
    },
    {
      "metadata": {
        "id": "CGhidey6ZXO0",
        "colab_type": "code",
        "colab": {}
      },
      "cell_type": "code",
      "source": [
        "todos_acessos = todos_acessos.sample(frac=1)"
      ],
      "execution_count": 0,
      "outputs": []
    },
    {
      "metadata": {
        "id": "ay8BURbhXQGp",
        "colab_type": "code",
        "outputId": "99d23a24-574b-4513-c8f0-6fb9aec2eaf1",
        "colab": {
          "base_uri": "https://localhost:8080/",
          "height": 249
        }
      },
      "cell_type": "code",
      "source": [
        "todos_acessos.head()"
      ],
      "execution_count": 7,
      "outputs": [
        {
          "output_type": "execute_result",
          "data": {
            "text/html": [
              "<div>\n",
              "<style scoped>\n",
              "    .dataframe tbody tr th:only-of-type {\n",
              "        vertical-align: middle;\n",
              "    }\n",
              "\n",
              "    .dataframe tbody tr th {\n",
              "        vertical-align: top;\n",
              "    }\n",
              "\n",
              "    .dataframe thead th {\n",
              "        text-align: right;\n",
              "    }\n",
              "</style>\n",
              "<table border=\"1\" class=\"dataframe\">\n",
              "  <thead>\n",
              "    <tr style=\"text-align: right;\">\n",
              "      <th></th>\n",
              "      <th>URI</th>\n",
              "      <th>Usuario logado</th>\n",
              "      <th>Status de resposta</th>\n",
              "    </tr>\n",
              "  </thead>\n",
              "  <tbody>\n",
              "    <tr>\n",
              "      <th>28969</th>\n",
              "      <td>/</td>\n",
              "      <td>16629.0</td>\n",
              "      <td>200</td>\n",
              "    </tr>\n",
              "    <tr>\n",
              "      <th>147751</th>\n",
              "      <td>/musicas</td>\n",
              "      <td>614.0</td>\n",
              "      <td>200</td>\n",
              "    </tr>\n",
              "    <tr>\n",
              "      <th>50132</th>\n",
              "      <td>/contato</td>\n",
              "      <td>9420.0</td>\n",
              "      <td>200</td>\n",
              "    </tr>\n",
              "    <tr>\n",
              "      <th>3328</th>\n",
              "      <td>/playlist/drumnbass</td>\n",
              "      <td>7566.0</td>\n",
              "      <td>200</td>\n",
              "    </tr>\n",
              "    <tr>\n",
              "      <th>130243</th>\n",
              "      <td>/</td>\n",
              "      <td>6070.0</td>\n",
              "      <td>200</td>\n",
              "    </tr>\n",
              "  </tbody>\n",
              "</table>\n",
              "</div>"
            ],
            "text/plain": [
              "                        URI  Usuario logado  Status de resposta\n",
              "28969                     /         16629.0                 200\n",
              "147751             /musicas           614.0                 200\n",
              "50132              /contato          9420.0                 200\n",
              "3328    /playlist/drumnbass          7566.0                 200\n",
              "130243                    /          6070.0                 200"
            ]
          },
          "metadata": {
            "tags": []
          },
          "execution_count": 7
        }
      ]
    },
    {
      "metadata": {
        "id": "PaVX0FtWVgj0",
        "colab_type": "code",
        "outputId": "b7075e27-fd5e-433d-ec3b-827b41878da5",
        "colab": {
          "base_uri": "https://localhost:8080/",
          "height": 289
        }
      },
      "cell_type": "code",
      "source": [
        "todos_acessos['URI'].value_counts()"
      ],
      "execution_count": 8,
      "outputs": [
        {
          "output_type": "execute_result",
          "data": {
            "text/plain": [
              "/                                                  78920\n",
              "/musicas                                           31881\n",
              "/contato                                           15545\n",
              "/compra/plano_avancado                              7957\n",
              "/promocao_primeiro_de_abril/compra/plano_basico     7949\n",
              "/compra/plano_basico                                7748\n",
              "/playlist/rock                                      3896\n",
              "/playlist/jazz                                      3793\n",
              "/playlist/classica                                  3788\n",
              "/playlist/funk                                      3777\n",
              "/playlist/drumnbass                                 3751\n",
              "/playlist/pop                                       3722\n",
              "/playlist/techno                                    3669\n",
              "/playlist/kpop                                      3604\n",
              "Name: URI, dtype: int64"
            ]
          },
          "metadata": {
            "tags": []
          },
          "execution_count": 8
        }
      ]
    },
    {
      "metadata": {
        "id": "IjNeuBIaYCL1",
        "colab_type": "code",
        "colab": {}
      },
      "cell_type": "code",
      "source": [
        "todos_acessos.to_csv(\"todos_acessos.csv\", index=False)"
      ],
      "execution_count": 0,
      "outputs": []
    },
    {
      "metadata": {
        "id": "riWMtdBIaMvU",
        "colab_type": "text"
      },
      "cell_type": "markdown",
      "source": [
        "# Lendo os dados e trabalhando exemplos com strings"
      ]
    },
    {
      "metadata": {
        "id": "ZxmrfT3D_A_g",
        "colab_type": "code",
        "outputId": "3655010a-d553-4d99-f12b-84366ba4a5ab",
        "colab": {
          "base_uri": "https://localhost:8080/",
          "height": 195
        }
      },
      "cell_type": "code",
      "source": [
        "import pandas as pd\n",
        "\n",
        "dados = pd.read_csv(\"todos_acessos.csv\")\n",
        "dados.head()"
      ],
      "execution_count": 10,
      "outputs": [
        {
          "output_type": "execute_result",
          "data": {
            "text/html": [
              "<div>\n",
              "<style scoped>\n",
              "    .dataframe tbody tr th:only-of-type {\n",
              "        vertical-align: middle;\n",
              "    }\n",
              "\n",
              "    .dataframe tbody tr th {\n",
              "        vertical-align: top;\n",
              "    }\n",
              "\n",
              "    .dataframe thead th {\n",
              "        text-align: right;\n",
              "    }\n",
              "</style>\n",
              "<table border=\"1\" class=\"dataframe\">\n",
              "  <thead>\n",
              "    <tr style=\"text-align: right;\">\n",
              "      <th></th>\n",
              "      <th>URI</th>\n",
              "      <th>Usuario logado</th>\n",
              "      <th>Status de resposta</th>\n",
              "    </tr>\n",
              "  </thead>\n",
              "  <tbody>\n",
              "    <tr>\n",
              "      <th>0</th>\n",
              "      <td>/</td>\n",
              "      <td>16629.0</td>\n",
              "      <td>200</td>\n",
              "    </tr>\n",
              "    <tr>\n",
              "      <th>1</th>\n",
              "      <td>/musicas</td>\n",
              "      <td>614.0</td>\n",
              "      <td>200</td>\n",
              "    </tr>\n",
              "    <tr>\n",
              "      <th>2</th>\n",
              "      <td>/contato</td>\n",
              "      <td>9420.0</td>\n",
              "      <td>200</td>\n",
              "    </tr>\n",
              "    <tr>\n",
              "      <th>3</th>\n",
              "      <td>/playlist/drumnbass</td>\n",
              "      <td>7566.0</td>\n",
              "      <td>200</td>\n",
              "    </tr>\n",
              "    <tr>\n",
              "      <th>4</th>\n",
              "      <td>/</td>\n",
              "      <td>6070.0</td>\n",
              "      <td>200</td>\n",
              "    </tr>\n",
              "  </tbody>\n",
              "</table>\n",
              "</div>"
            ],
            "text/plain": [
              "                   URI  Usuario logado  Status de resposta\n",
              "0                    /         16629.0                 200\n",
              "1             /musicas           614.0                 200\n",
              "2             /contato          9420.0                 200\n",
              "3  /playlist/drumnbass          7566.0                 200\n",
              "4                    /          6070.0                 200"
            ]
          },
          "metadata": {
            "tags": []
          },
          "execution_count": 10
        }
      ]
    },
    {
      "metadata": {
        "id": "6WRWcQ4MX302",
        "colab_type": "code",
        "outputId": "cc24e88b-8f8e-4f0b-ca68-8d0ca75ab9de",
        "colab": {
          "base_uri": "https://localhost:8080/",
          "height": 34
        }
      },
      "cell_type": "code",
      "source": [
        "dados.columns"
      ],
      "execution_count": 11,
      "outputs": [
        {
          "output_type": "execute_result",
          "data": {
            "text/plain": [
              "Index(['URI', 'Usuario logado', 'Status de resposta'], dtype='object')"
            ]
          },
          "metadata": {
            "tags": []
          },
          "execution_count": 11
        }
      ]
    },
    {
      "metadata": {
        "id": "pEM4zayvX5fK",
        "colab_type": "code",
        "outputId": "9522eee0-3443-4a5e-99c0-7fd2f7246c22",
        "colab": {
          "base_uri": "https://localhost:8080/",
          "height": 34
        }
      },
      "cell_type": "code",
      "source": [
        "dados.columns.str.lower()"
      ],
      "execution_count": 12,
      "outputs": [
        {
          "output_type": "execute_result",
          "data": {
            "text/plain": [
              "Index(['uri', 'usuario logado', 'status de resposta'], dtype='object')"
            ]
          },
          "metadata": {
            "tags": []
          },
          "execution_count": 12
        }
      ]
    },
    {
      "metadata": {
        "id": "2LbLYdNqX8Et",
        "colab_type": "code",
        "outputId": "accc53b6-fabd-46dd-e92b-2bbf83b595e9",
        "colab": {
          "base_uri": "https://localhost:8080/",
          "height": 34
        }
      },
      "cell_type": "code",
      "source": [
        "dados.columns.str.lower().str.replace(' ', '_')"
      ],
      "execution_count": 13,
      "outputs": [
        {
          "output_type": "execute_result",
          "data": {
            "text/plain": [
              "Index(['uri', 'usuario_logado', 'status_de_resposta'], dtype='object')"
            ]
          },
          "metadata": {
            "tags": []
          },
          "execution_count": 13
        }
      ]
    },
    {
      "metadata": {
        "id": "_9_4gaIDX_MY",
        "colab_type": "code",
        "outputId": "e6fed3ff-25c7-4c23-8e2f-3c718a226819",
        "colab": {
          "base_uri": "https://localhost:8080/",
          "height": 195
        }
      },
      "cell_type": "code",
      "source": [
        "dados.columns = dados.columns.str.lower().str.replace(' ', '_')\n",
        "dados.head()"
      ],
      "execution_count": 14,
      "outputs": [
        {
          "output_type": "execute_result",
          "data": {
            "text/html": [
              "<div>\n",
              "<style scoped>\n",
              "    .dataframe tbody tr th:only-of-type {\n",
              "        vertical-align: middle;\n",
              "    }\n",
              "\n",
              "    .dataframe tbody tr th {\n",
              "        vertical-align: top;\n",
              "    }\n",
              "\n",
              "    .dataframe thead th {\n",
              "        text-align: right;\n",
              "    }\n",
              "</style>\n",
              "<table border=\"1\" class=\"dataframe\">\n",
              "  <thead>\n",
              "    <tr style=\"text-align: right;\">\n",
              "      <th></th>\n",
              "      <th>uri</th>\n",
              "      <th>usuario_logado</th>\n",
              "      <th>status_de_resposta</th>\n",
              "    </tr>\n",
              "  </thead>\n",
              "  <tbody>\n",
              "    <tr>\n",
              "      <th>0</th>\n",
              "      <td>/</td>\n",
              "      <td>16629.0</td>\n",
              "      <td>200</td>\n",
              "    </tr>\n",
              "    <tr>\n",
              "      <th>1</th>\n",
              "      <td>/musicas</td>\n",
              "      <td>614.0</td>\n",
              "      <td>200</td>\n",
              "    </tr>\n",
              "    <tr>\n",
              "      <th>2</th>\n",
              "      <td>/contato</td>\n",
              "      <td>9420.0</td>\n",
              "      <td>200</td>\n",
              "    </tr>\n",
              "    <tr>\n",
              "      <th>3</th>\n",
              "      <td>/playlist/drumnbass</td>\n",
              "      <td>7566.0</td>\n",
              "      <td>200</td>\n",
              "    </tr>\n",
              "    <tr>\n",
              "      <th>4</th>\n",
              "      <td>/</td>\n",
              "      <td>6070.0</td>\n",
              "      <td>200</td>\n",
              "    </tr>\n",
              "  </tbody>\n",
              "</table>\n",
              "</div>"
            ],
            "text/plain": [
              "                   uri  usuario_logado  status_de_resposta\n",
              "0                    /         16629.0                 200\n",
              "1             /musicas           614.0                 200\n",
              "2             /contato          9420.0                 200\n",
              "3  /playlist/drumnbass          7566.0                 200\n",
              "4                    /          6070.0                 200"
            ]
          },
          "metadata": {
            "tags": []
          },
          "execution_count": 14
        }
      ]
    },
    {
      "metadata": {
        "id": "9cDg5l-dYhN6",
        "colab_type": "code",
        "outputId": "7b436003-6326-4001-f868-e5427a6371dc",
        "colab": {
          "base_uri": "https://localhost:8080/",
          "height": 118
        }
      },
      "cell_type": "code",
      "source": [
        "dados.uri.unique()"
      ],
      "execution_count": 15,
      "outputs": [
        {
          "output_type": "execute_result",
          "data": {
            "text/plain": [
              "array(['/', '/musicas', '/contato', '/playlist/drumnbass',\n",
              "       '/playlist/funk', '/compra/plano_basico', '/playlist/techno',\n",
              "       '/promocao_primeiro_de_abril/compra/plano_basico',\n",
              "       '/compra/plano_avancado', '/playlist/pop', '/playlist/rock',\n",
              "       '/playlist/jazz', '/playlist/classica', '/playlist/kpop'],\n",
              "      dtype=object)"
            ]
          },
          "metadata": {
            "tags": []
          },
          "execution_count": 15
        }
      ]
    },
    {
      "metadata": {
        "id": "9gW6o449Tq4-",
        "colab_type": "code",
        "outputId": "8c73e053-208f-4fda-b707-b9402eaf1631",
        "colab": {
          "base_uri": "https://localhost:8080/",
          "height": 195
        }
      },
      "cell_type": "code",
      "source": [
        "dados['comprando'] = dados.uri.str.startswith(\"/compra\")\n",
        "dados.query(\"comprando==True\").head()"
      ],
      "execution_count": 16,
      "outputs": [
        {
          "output_type": "execute_result",
          "data": {
            "text/html": [
              "<div>\n",
              "<style scoped>\n",
              "    .dataframe tbody tr th:only-of-type {\n",
              "        vertical-align: middle;\n",
              "    }\n",
              "\n",
              "    .dataframe tbody tr th {\n",
              "        vertical-align: top;\n",
              "    }\n",
              "\n",
              "    .dataframe thead th {\n",
              "        text-align: right;\n",
              "    }\n",
              "</style>\n",
              "<table border=\"1\" class=\"dataframe\">\n",
              "  <thead>\n",
              "    <tr style=\"text-align: right;\">\n",
              "      <th></th>\n",
              "      <th>uri</th>\n",
              "      <th>usuario_logado</th>\n",
              "      <th>status_de_resposta</th>\n",
              "      <th>comprando</th>\n",
              "    </tr>\n",
              "  </thead>\n",
              "  <tbody>\n",
              "    <tr>\n",
              "      <th>13</th>\n",
              "      <td>/compra/plano_basico</td>\n",
              "      <td>7031.0</td>\n",
              "      <td>200</td>\n",
              "      <td>True</td>\n",
              "    </tr>\n",
              "    <tr>\n",
              "      <th>31</th>\n",
              "      <td>/compra/plano_avancado</td>\n",
              "      <td>2147.0</td>\n",
              "      <td>200</td>\n",
              "      <td>True</td>\n",
              "    </tr>\n",
              "    <tr>\n",
              "      <th>37</th>\n",
              "      <td>/compra/plano_avancado</td>\n",
              "      <td>7948.0</td>\n",
              "      <td>200</td>\n",
              "      <td>True</td>\n",
              "    </tr>\n",
              "    <tr>\n",
              "      <th>86</th>\n",
              "      <td>/compra/plano_avancado</td>\n",
              "      <td>11177.0</td>\n",
              "      <td>200</td>\n",
              "      <td>True</td>\n",
              "    </tr>\n",
              "    <tr>\n",
              "      <th>104</th>\n",
              "      <td>/compra/plano_avancado</td>\n",
              "      <td>8775.0</td>\n",
              "      <td>200</td>\n",
              "      <td>True</td>\n",
              "    </tr>\n",
              "  </tbody>\n",
              "</table>\n",
              "</div>"
            ],
            "text/plain": [
              "                        uri  usuario_logado  status_de_resposta  comprando\n",
              "13     /compra/plano_basico          7031.0                 200       True\n",
              "31   /compra/plano_avancado          2147.0                 200       True\n",
              "37   /compra/plano_avancado          7948.0                 200       True\n",
              "86   /compra/plano_avancado         11177.0                 200       True\n",
              "104  /compra/plano_avancado          8775.0                 200       True"
            ]
          },
          "metadata": {
            "tags": []
          },
          "execution_count": 16
        }
      ]
    },
    {
      "metadata": {
        "id": "Cw31EiJAZ-jW",
        "colab_type": "code",
        "outputId": "7118923c-bd14-43ab-ccfc-b6f62a63427b",
        "colab": {
          "base_uri": "https://localhost:8080/",
          "height": 67
        }
      },
      "cell_type": "code",
      "source": [
        "dados.comprando.value_counts()"
      ],
      "execution_count": 17,
      "outputs": [
        {
          "output_type": "execute_result",
          "data": {
            "text/plain": [
              "False    164295\n",
              "True      15705\n",
              "Name: comprando, dtype: int64"
            ]
          },
          "metadata": {
            "tags": []
          },
          "execution_count": 17
        }
      ]
    },
    {
      "metadata": {
        "id": "VJNWax36ZzFT",
        "colab_type": "code",
        "outputId": "4d8c798b-6aa2-4131-df4e-216982aaec95",
        "colab": {
          "base_uri": "https://localhost:8080/",
          "height": 204
        }
      },
      "cell_type": "code",
      "source": [
        "dados['comprando'] = dados.uri.str.contains(\"/compra/\")\n",
        "dados.query(\"comprando==True\").head()"
      ],
      "execution_count": 18,
      "outputs": [
        {
          "output_type": "execute_result",
          "data": {
            "text/html": [
              "<div>\n",
              "<style scoped>\n",
              "    .dataframe tbody tr th:only-of-type {\n",
              "        vertical-align: middle;\n",
              "    }\n",
              "\n",
              "    .dataframe tbody tr th {\n",
              "        vertical-align: top;\n",
              "    }\n",
              "\n",
              "    .dataframe thead th {\n",
              "        text-align: right;\n",
              "    }\n",
              "</style>\n",
              "<table border=\"1\" class=\"dataframe\">\n",
              "  <thead>\n",
              "    <tr style=\"text-align: right;\">\n",
              "      <th></th>\n",
              "      <th>uri</th>\n",
              "      <th>usuario_logado</th>\n",
              "      <th>status_de_resposta</th>\n",
              "      <th>comprando</th>\n",
              "    </tr>\n",
              "  </thead>\n",
              "  <tbody>\n",
              "    <tr>\n",
              "      <th>13</th>\n",
              "      <td>/compra/plano_basico</td>\n",
              "      <td>7031.0</td>\n",
              "      <td>200</td>\n",
              "      <td>True</td>\n",
              "    </tr>\n",
              "    <tr>\n",
              "      <th>24</th>\n",
              "      <td>/promocao_primeiro_de_abril/compra/plano_basico</td>\n",
              "      <td>14887.0</td>\n",
              "      <td>200</td>\n",
              "      <td>True</td>\n",
              "    </tr>\n",
              "    <tr>\n",
              "      <th>31</th>\n",
              "      <td>/compra/plano_avancado</td>\n",
              "      <td>2147.0</td>\n",
              "      <td>200</td>\n",
              "      <td>True</td>\n",
              "    </tr>\n",
              "    <tr>\n",
              "      <th>33</th>\n",
              "      <td>/promocao_primeiro_de_abril/compra/plano_basico</td>\n",
              "      <td>4871.0</td>\n",
              "      <td>200</td>\n",
              "      <td>True</td>\n",
              "    </tr>\n",
              "    <tr>\n",
              "      <th>37</th>\n",
              "      <td>/compra/plano_avancado</td>\n",
              "      <td>7948.0</td>\n",
              "      <td>200</td>\n",
              "      <td>True</td>\n",
              "    </tr>\n",
              "  </tbody>\n",
              "</table>\n",
              "</div>"
            ],
            "text/plain": [
              "                                                uri  usuario_logado  \\\n",
              "13                             /compra/plano_basico          7031.0   \n",
              "24  /promocao_primeiro_de_abril/compra/plano_basico         14887.0   \n",
              "31                           /compra/plano_avancado          2147.0   \n",
              "33  /promocao_primeiro_de_abril/compra/plano_basico          4871.0   \n",
              "37                           /compra/plano_avancado          7948.0   \n",
              "\n",
              "    status_de_resposta  comprando  \n",
              "13                 200       True  \n",
              "24                 200       True  \n",
              "31                 200       True  \n",
              "33                 200       True  \n",
              "37                 200       True  "
            ]
          },
          "metadata": {
            "tags": []
          },
          "execution_count": 18
        }
      ]
    },
    {
      "metadata": {
        "id": "CkDnlwZYaE-u",
        "colab_type": "code",
        "outputId": "9a59e1d7-1abc-4bb4-e55c-cc3f6dd44366",
        "colab": {
          "base_uri": "https://localhost:8080/",
          "height": 68
        }
      },
      "cell_type": "code",
      "source": [
        "dados.comprando.value_counts()"
      ],
      "execution_count": 19,
      "outputs": [
        {
          "output_type": "execute_result",
          "data": {
            "text/plain": [
              "False    156346\n",
              "True      23654\n",
              "Name: comprando, dtype: int64"
            ]
          },
          "metadata": {
            "tags": []
          },
          "execution_count": 19
        }
      ]
    }
  ]
}